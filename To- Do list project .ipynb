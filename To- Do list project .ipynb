{
 "cells": [
  {
   "cell_type": "code",
   "execution_count": null,
   "id": "e4f5498b",
   "metadata": {},
   "outputs": [],
   "source": [
    "# To-Do List App"
   ]
  },
  {
   "cell_type": "code",
   "execution_count": 2,
   "id": "4a3085eb",
   "metadata": {},
   "outputs": [
    {
     "name": "stdout",
     "output_type": "stream",
     "text": [
      "Welcome to the To-Do List App:\n",
      "\n",
      " Please select one of the following: \n",
      "-------------------------------\n",
      "1. Add a new Task\n",
      "2. Delete a Task\n",
      "3. List Tasks \n",
      "4. Quit\n",
      "\n",
      " Enter your choice:3\n",
      "\n",
      " There are no tasks currently.\n",
      "\n",
      " Please select one of the following: \n",
      "-------------------------------\n",
      "1. Add a new Task\n",
      "2. Delete a Task\n",
      "3. List Tasks \n",
      "4. Quit\n",
      "\n",
      " Enter your choice:4\n",
      "Good Bye!\n"
     ]
    }
   ],
   "source": [
    "import csv\n",
    "\n",
    "file = open(\"To_Do_List.csv\", \"a\")\n",
    "tasks = []\n",
    "w = csv.writer(file)\n",
    "\n",
    "def addTask():\n",
    "    task = input(\"Please enter a task:\")\n",
    "    tasks.append(task)\n",
    "    print('\\n')\n",
    "    print(f\"Task '{task}' added to the list.\")\n",
    "    \n",
    "\n",
    "def listTasks():\n",
    "    if not tasks:\n",
    "        print(\"\\n There are no tasks currently.\")\n",
    "        return\n",
    "    else:\n",
    "        print(\"\\n Current Tasks:\")\n",
    "        for index, task in enumerate(tasks, start = 1):\n",
    "            print(f\"Task #{index}. {task}\")\n",
    "            \n",
    "def deleteTask():\n",
    "    listTasks()\n",
    "    if not tasks:\n",
    "        return\n",
    "    \n",
    "    try:\n",
    "        taskToDelete = int(input(\"\\n Enter the # to delete:\"))\n",
    "        if taskToDelete >= 1 and taskToDelete <= len(tasks):\n",
    "            tasks.pop(taskToDelete -1)\n",
    "            print('\\n')\n",
    "            print(f'Task {taskToDelete} has been removed.')\n",
    "        else:\n",
    "            print(f'Task #{taskToDelete} was not found.')\n",
    "      \n",
    "    except:\n",
    "        print(\"Invalid input !\")\n",
    "    \n",
    "if __name__ == \"__main__\":    \n",
    "### Create a loop to run the app\n",
    "    print('Welcome to the To-Do List App:')\n",
    "    while True:\n",
    "        print(\"\\n Please select one of the following: \")\n",
    "        print('-------------------------------')\n",
    "        print('1. Add a new Task')\n",
    "        print('2. Delete a Task')\n",
    "        print('3. List Tasks ')\n",
    "        print('4. Quit')\n",
    "        \n",
    "        choice = input('\\n Enter your choice:')\n",
    "        if(choice == '1'):\n",
    "            addTask()\n",
    "        elif(choice == '2'):\n",
    "            deleteTask()\n",
    "        elif(choice == '3'):\n",
    "            listTasks()\n",
    "        elif(choice == '4'):\n",
    "            break\n",
    "        else:\n",
    "            print('Invalid input. Please try again.')\n",
    "            \n",
    "w.writerows(tasks)\n",
    "file.close()          \n",
    "print('Good Bye!')\n",
    "    "
   ]
  },
  {
   "cell_type": "code",
   "execution_count": null,
   "id": "13be4be6",
   "metadata": {},
   "outputs": [],
   "source": []
  },
  {
   "cell_type": "code",
   "execution_count": null,
   "id": "7587a0c3",
   "metadata": {},
   "outputs": [],
   "source": []
  }
 ],
 "metadata": {
  "kernelspec": {
   "display_name": "Python 3 (ipykernel)",
   "language": "python",
   "name": "python3"
  },
  "language_info": {
   "codemirror_mode": {
    "name": "ipython",
    "version": 3
   },
   "file_extension": ".py",
   "mimetype": "text/x-python",
   "name": "python",
   "nbconvert_exporter": "python",
   "pygments_lexer": "ipython3",
   "version": "3.11.5"
  }
 },
 "nbformat": 4,
 "nbformat_minor": 5
}
